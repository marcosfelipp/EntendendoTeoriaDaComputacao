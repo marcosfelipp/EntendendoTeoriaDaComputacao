{
 "cells": [
  {
   "cell_type": "markdown",
   "metadata": {},
   "source": [
    "# Decidibilidade\n",
    "\n",
    "Dizemos que uma linguagem é **co-Turing-reconhecıvel** se ela é o complemento de uma lingugem Turing-reconhecível.\n",
    "\n",
    "**Teorema**\n",
    "Uma linguagem é decidível sse ela é Turing-reconhecível e co-Turing-reconhecível.\n",
    "\n",
    "Em outras palavras, uma linguagem é **decidível** exatamente quando **ela e seu\n",
    "complemento** são ambas **Turing-reconhecíveis**."
   ]
  },
  {
   "cell_type": "markdown",
   "metadata": {},
   "source": [
    "- Aluns problemas são indecidíveis:\n",
    "\n",
    "**AMT = {<M,w>| M é uma MT e M aceita w}**\n",
    "\n",
    "Podemos pensar a máquina de Turing M como um programa e w como uma entrada para o programa."
   ]
  },
  {
   "cell_type": "markdown",
   "metadata": {},
   "source": [
    "Vamos provar que AMT é indecidível:\n",
    "    \n",
    "Para obter uma contradição assumimos que AMT é decidível. Vamos constuir o seguinte programa:"
   ]
  },
  {
   "cell_type": "code",
   "execution_count": 1,
   "metadata": {},
   "outputs": [],
   "source": [
    "def halt(programa, entrada):\n",
    "    if programa(entrada):\n",
    "        return 'aceita'\n",
    "    else: \n",
    "        return 'rejeita'"
   ]
  },
  {
   "cell_type": "markdown",
   "metadata": {},
   "source": [
    "Agora constuímos outro programa que tem como subrotina 'halt':"
   ]
  },
  {
   "cell_type": "code",
   "execution_count": 3,
   "metadata": {},
   "outputs": [],
   "source": [
    "def invert_halt(programa):\n",
    "    if halt(programa, programa):\n",
    "        return 'rejeita'\n",
    "    else:\n",
    "        return 'aceita'"
   ]
  },
  {
   "cell_type": "code",
   "execution_count": null,
   "metadata": {},
   "outputs": [],
   "source": [
    "invert_halt(invert_halt) # Não execute isso"
   ]
  },
  {
   "cell_type": "markdown",
   "metadata": {},
   "source": [
    "Se rodarmos 'invert_halt' com a propria descrição:\n",
    "    \n",
    "    invert_halt(invert_halt) = {\n",
    "        aceita se invert_halt rejeita <invert_halt>\n",
    "        rejeita se invert_halt aceita <invert_halt>\n",
    "    }"
   ]
  },
  {
   "cell_type": "markdown",
   "metadata": {},
   "source": [
    "# Computailidade\n",
    "\n",
    "Complemento da AMT não é Turing-reconhecível."
   ]
  },
  {
   "cell_type": "markdown",
   "metadata": {},
   "source": [
    "# Redutibilidade\n",
    "\n",
    "A ideia da redutibilidade é converter a instancia de um problema para outro problema.\n",
    "\n",
    "A redutível a B:\n",
    "\n",
    "B **decidível** -> A **decidível**\n",
    "\n",
    "A **indecidível** -> B **indecidível**\n",
    "\n",
    "Ser capaz de reduzir um problema A a um problema B, seguinifica existe uma ***função computável*** que converte instâncias de um problema A para instâncias de um problema B.\n",
    "\n",
    "![Funcão de Redução](funcao_de_reducao.jpg)\n",
    "\n",
    "Exemplo:\n",
    "\n",
    "**PARA_MT = {<M, w>| M é uma MT e M pára sobre a entrada w}**\n",
    "\n"
   ]
  },
  {
   "cell_type": "markdown",
   "metadata": {},
   "source": [
    "Um exemplo de programa que PARA_MT receberia e entraria em loop:"
   ]
  },
  {
   "cell_type": "code",
   "execution_count": null,
   "metadata": {},
   "outputs": [],
   "source": [
    "def prog(entrada):\n",
    "    while True:\n",
    "        continue"
   ]
  },
  {
   "cell_type": "markdown",
   "metadata": {},
   "source": [
    "Provvamos que PARA_MT é indecidível reduzindo o AMT a ele. Podemos construir uma Máquina que decide AMT usando uma máquina que decide PARA_AMT como sub-rotina:"
   ]
  },
  {
   "cell_type": "code",
   "execution_count": 1,
   "metadata": {},
   "outputs": [],
   "source": [
    "def decideAMT(programa, entrada):\n",
    "    if decidePARA_MT(programa, entrada) == 'rejeita':\n",
    "        return 'rejeita'\n",
    "    else:\n",
    "        if programa(entrada) == 'aceita':\n",
    "            return 'aceita'\n",
    "        else:\n",
    "            return 'rejeita'"
   ]
  },
  {
   "cell_type": "markdown",
   "metadata": {},
   "source": [
    "Se a máquina **decidePARA_MT** existe, então podemos decidir AMT. Entretanto, sabemos que AMT é indecidível, logo temos uma contradição. Portanto **PARA_MT** é indecidível."
   ]
  },
  {
   "cell_type": "markdown",
   "metadata": {},
   "source": [
    "**REGULARMT = {< M >| M é uma MT e L(M) é uma linguagem regular}**"
   ]
  },
  {
   "cell_type": "code",
   "execution_count": 7,
   "metadata": {},
   "outputs": [],
   "source": [
    "def decideAMT(programa, entrada):\n",
    "    \n",
    "    # Constuímos M2 para reconhecer a linguagem não-regular '0^n 1^n' se M não aceita w: \n",
    "    def M2(entradaX):\n",
    "        if entradaX == '0^n 1^n':\n",
    "            return 'aceita'\n",
    "        else:\n",
    "            if programa(entrada) == 'aceita':\n",
    "                return 'aceita'\n",
    "            else:\n",
    "                return 'rejeita'\n",
    "    \n",
    "    if decideREGULARMT(M2) == 'aceita':\n",
    "        return 'aceita'\n",
    "    else:\n",
    "        return 'rejeita'\n",
    "        "
   ]
  },
  {
   "cell_type": "markdown",
   "metadata": {},
   "source": [
    "**VMT = { < M >| M é uma MT e L(M) = ∅}**"
   ]
  },
  {
   "cell_type": "code",
   "execution_count": 8,
   "metadata": {},
   "outputs": [],
   "source": [
    "def decideAMT(programa, entrada):\n",
    "    \n",
    "    # Constuimos M2 para reconhecer todas linguagens menos w\n",
    "    def M2(entradaX):\n",
    "        if entradaX != entrada:\n",
    "            return 'rejeita'\n",
    "        else:\n",
    "            if programa(entrada) == 'aceita':\n",
    "                return 'aceita'\n",
    "    \n",
    "    # Rodamos um decisor para o VMT, passando M2 como entrada\n",
    "    if decideVMT(M2) == 'aceita':\n",
    "        return 'rejeita'\n",
    "    else:\n",
    "        return 'aceita'\n",
    "        "
   ]
  },
  {
   "cell_type": "markdown",
   "metadata": {},
   "source": [
    "Note que decideAMT tem que ser capaz computar uma descricão de M2 a partir de uma descrição de programa e entrada. \n",
    "\n",
    "Ela é capaz de fazer isso porque ela só precisa adicionar novos passos ao programa que realizem o teste se entradaX = entrada.\n",
    "\n",
    "***EQAMT = {<M,N> | M e N são mT's e L(M) = L(N)}***"
   ]
  },
  {
   "cell_type": "code",
   "execution_count": null,
   "metadata": {},
   "outputs": [],
   "source": [
    "def decideVMT(M):\n",
    "    def M2(entrada):\n",
    "        return 'rejeita'\n",
    "    \n",
    "    decideEQMT(M, M2)"
   ]
  },
  {
   "cell_type": "markdown",
   "metadata": {},
   "source": [
    "### Reduções via histórias de computação:\n",
    "\n",
    "Relembrando, uma configuração de uma mT:\n",
    "\n",
    "- Estado atual\n",
    "- Conteúdo da fita\n",
    "- Posição da cabeça\n",
    "\n",
    "![Histórico de computação](historico_computacao.jpg)\n"
   ]
  }
 ],
 "metadata": {
  "kernelspec": {
   "display_name": "Python 3",
   "language": "python",
   "name": "python3"
  },
  "language_info": {
   "codemirror_mode": {
    "name": "ipython",
    "version": 3
   },
   "file_extension": ".py",
   "mimetype": "text/x-python",
   "name": "python",
   "nbconvert_exporter": "python",
   "pygments_lexer": "ipython3",
   "version": "3.6.7"
  }
 },
 "nbformat": 4,
 "nbformat_minor": 2
}
